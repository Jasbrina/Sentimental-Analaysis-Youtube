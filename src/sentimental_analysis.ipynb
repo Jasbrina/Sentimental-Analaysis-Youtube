{
 "cells": [
  {
   "cell_type": "markdown",
   "metadata": {},
   "source": [
    "# Sentimental Analysis of Youtube Comments"
   ]
  },
  {
   "cell_type": "markdown",
   "metadata": {},
   "source": [
    "## Reading in the data"
   ]
  },
  {
   "cell_type": "code",
   "execution_count": 34,
   "metadata": {},
   "outputs": [],
   "source": [
    "import pandas as pd\n",
    "import numpy as np \n",
    "import nltk\n",
    "from nltk.sentiment.vader import SentimentIntensityAnalyzer\n",
    "import matplotlib.pyplot as plt\n",
    "import preprocessing\n",
    "import get_youtube_comments as g"
   ]
  },
  {
   "cell_type": "code",
   "execution_count": 2,
   "metadata": {},
   "outputs": [
    {
     "name": "stderr",
     "output_type": "stream",
     "text": [
      "[nltk_data] Downloading package vader_lexicon to\n",
      "[nltk_data]     C:\\Users\\djasb\\AppData\\Roaming\\nltk_data...\n",
      "[nltk_data]   Package vader_lexicon is already up-to-date!\n"
     ]
    },
    {
     "data": {
      "text/plain": [
       "True"
      ]
     },
     "execution_count": 2,
     "metadata": {},
     "output_type": "execute_result"
    }
   ],
   "source": [
    "nltk.download('vader_lexicon')"
   ]
  },
  {
   "cell_type": "code",
   "execution_count": 35,
   "metadata": {},
   "outputs": [
    {
     "name": "stdout",
     "output_type": "stream",
     "text": [
      "Before commenting &quot;Except a dog can&#39;t live that long,&quot; watch the video...\n",
      "dog really is a best friend\n",
      "first movie in such a long time I tried to held my tears\n",
      "Me and my family watched this my mom and younger sis was crying exept for me and my dad lol\n",
      "If you put up sad piano song my room will literally be flooded with my tears\n",
      "God i hate dogs they bring me so much joy and so much saddnes but in the other hand my dog is the best what could ever happen to me\n",
      "i remmember that movie it is too good\n",
      "This film i watched 2 years ago and it was so emotional\n",
      "I cried watching this.\n",
      "not me sobbing over the family cat dying\n",
      "I SWEAR IM NOT CRYING, IM JUST SWEATING THROUGH MY EYES\n",
      "I’m crying my eyes out\n",
      "God dude, almost had my tear up. Idk what I’ll<br>Do when my dog goes\n",
      "I actually going to the cinema to watch this one\n",
      "the movie makes me sad because i kicked a dog\n",
      "I&#39;m not crying, you are.\n",
      "Awww so cute\n",
      "this made me cry\n",
      "The highest living dog is 29 and this movie is after 37 he met\n",
      "Poor dog\n",
      "Can you do a dogs way home?\n",
      "better then marvels\n",
      "Okay move recap officially made me cry\n",
      "I can just imagine how hard did it take to make this video\n",
      "Dam this is the cutest and saddest movie I have ever seen I played with my dog for an hour after watching this\n",
      "<a href=\"https://www.youtube.com/watch?v=0L2JoeJTfZY&amp;t=3m51s\">3:51</a> Oh no! our table! its broken!\n",
      "Yellow box horse dog 😂\n",
      "i....i cried so much....\n",
      "I watched the actual movie before this, buttt it’s still nice to see it again!\n",
      "Dog live only 16 years to 20 years\n",
      "How a dog can live for 37 years\n",
      "i hate this movie because my name&#39;s ethan and i haven&#39;t lost a dog yet and mine is 11 years old atm. i dont know what ill do when that day comes.\n",
      ":(\n",
      "Everytime I see a dog in a movie I chant &quot;Don&#39;t make me cry&quot; a few times before continuing\n",
      "Your.  Dum.  Wl. Is. The. Dog.  Killd\n",
      "4 Beautiful Lives.\n",
      "I watched this movie and a dogs journey last year and it was so sadd\n",
      "A dogs maximul lifespan is 15 years and the they die at old age\n",
      "Aww\n",
      "r.i.p to ellie\n",
      "I watched this movie and it was one of the best, saddest movies I’ve ever watched\n",
      "A dogs purpose is a great movie\n",
      "&quot;They play games by making noises under the covers, which Bailey enjoys&quot;.... my guy\n",
      "Not gonna even watch the video. Dogs only live for 20 years at most.\n",
      "Im crying\n",
      "I loved that movie, it made me cry so much 😭❤️\n",
      "The Oldest dog to live was 29 years old\n",
      "Tell me more\n",
      "This made me cry\n",
      "This is a good and sad movie\n",
      "this movie had me crying for life when I saw it :&#39;/, kinda happy I get to experience it again\n",
      "this made me cry because I remember my family&#39;s 2 dog one gone missing one died 😭😢\n",
      "I remember watching this movie I almost cried\n",
      "Holy shit, i watched this movie twice with part 2. Definitely one of the best animal movies out there\n",
      "I have watched his movie ❤\n",
      "I…<br>Never thought they would do a recap\n",
      "I clicked on this video expecting a normal movie, now I&#39;m in tears\n",
      "A dog&#39;s purpose is to have fun and make others have fun\n",
      "yeah this movie is sad i saw it before\n",
      "I&#39;m not crying my eyes are just sweaty!\n",
      "i love this movie\n",
      "Is it just me or does every dad in movies  always acts like this when ever there’s a new pet?\n",
      "I remember when i 1st watched this movie<br>Thank you for sharing  it once more..\n",
      "I miss you Hercules.\n",
      "i watched this ago it was really good\n",
      "“Buddy wonders if they will lick each other’s faces like old time. They do not” 10 seconds later they start licking each other’s faces\n",
      "I watched this a few years ago I think there is a movie that can be great to recap  a dog&#39;s way home\n",
      "Repent for your sins thank and pray to God\n",
      "Which ant is the biggest\n",
      "I have watched this movie! It is amazing.\n",
      "I JUST REALIZED THIS WAS A MOVIE AND I THOUGHT IT WAS A REAL ASS STORY IM SO SAD\n",
      "SOBBING RN\n",
      "a dog can live for 37 years ???\n",
      "A dog in the sky blessing this dog<br>Adog 🙏\n",
      "Where can We see the movie netflix?\n",
      "poor bailey\n",
      "This movie was beautiful but then when the 2nd movie came out it was sader and i loved it both of the movies were sad :&lt;\n",
      "Only dog can live 20 years or 29years\n",
      "I remember watching this movie while I was at a trailer park. Idk Why But It Made Me Cry Buckets.\n",
      "yoo i forgot the title of the movie BUT I LOVE   THIS MOVIEEEEE\n",
      "This dog had the ability to remember his or her past life. Amazing!\n",
      "Nah this is a joke right? I have a golden retriever, got her the exact same way the child did. And we named her Bailey.\n",
      "I saw this a long time ago\n",
      "i found my purpose a long time ago.\n",
      "Why\n",
      "Why there water on my eye ;-;\n",
      "so sad 😢😢😢😢😢😭\n",
      "this is actually the prequel of the movie A Dog&#39;s Journey\n",
      "i remember now this movie i watch it beforeeeeeeeeeeee<br>yeahhhhhhhhhh\n",
      "Plus 100,000,000 doggo credit\n",
      "<a href=\"https://www.youtube.com/watch?v=0L2JoeJTfZY&amp;t=3m50s\">3:50</a> OH NO! THEIR TABLE! ITS BROKEN!\n",
      "I cried the whole way through this video T_T\n",
      "I literally cried while watching this<br>Such a beautiful movie!\n",
      "this movie reminds me of my dead  dog :(\n",
      "Bruh I really want this to be in Netflix\n",
      "How to make your video\n",
      "Really good video\n",
      "I remember this movie we watched this in our school and it made us cry so hard ;-;\n",
      "i always cry whenever i watch this movie\n"
     ]
    }
   ],
   "source": [
    "g.get_comments(\"0L2JoeJTfZY\", \"dogs\")"
   ]
  },
  {
   "cell_type": "code",
   "execution_count": 37,
   "metadata": {},
   "outputs": [],
   "source": [
    "data = pd.read_csv('C:\\\\Users\\\\djasb\\\\Documents\\\\school\\\\2021W1\\\\LING242\\\\youtube_sentimental_analysis\\\\data\\\\dogs.csv', error_bad_lines=False)"
   ]
  },
  {
   "cell_type": "code",
   "execution_count": 38,
   "metadata": {},
   "outputs": [],
   "source": [
    "comments = data['comment']"
   ]
  },
  {
   "cell_type": "code",
   "execution_count": 39,
   "metadata": {},
   "outputs": [
    {
     "name": "stdout",
     "output_type": "stream",
     "text": [
      "0     Before commenting &quot;Except a dog can&#39;t...\n",
      "1                           dog really is a best friend\n",
      "2     first movie in such a long time I tried to hel...\n",
      "3     Me and my family watched this my mom and young...\n",
      "4     If you put up sad piano song my room will lite...\n",
      "                            ...                        \n",
      "88             Bruh I really want this to be in Netflix\n",
      "89                               How to make your video\n",
      "90                                    Really good video\n",
      "91    I remember this movie we watched this in our s...\n",
      "92             i always cry whenever i watch this movie\n",
      "Name: comment, Length: 93, dtype: object\n"
     ]
    }
   ],
   "source": [
    "print(comments)"
   ]
  },
  {
   "cell_type": "code",
   "execution_count": 40,
   "metadata": {},
   "outputs": [
    {
     "name": "stdout",
     "output_type": "stream",
     "text": [
      "Before commenting &quot;Except a dog can&#39;t live that long,&quot; watch the video...\n",
      "dog really is a best friend\n",
      "first movie in such a long time I tried to held my tears\n",
      "Me and my family watched this my mom and younger sis was crying exept for me and my dad lol\n",
      "If you put up sad piano song my room will literally be flooded with my tears\n",
      "God i hate dogs they bring me so much joy and so much saddnes but in the other hand my dog is the best what could ever happen to me\n",
      "i remmember that movie it is too good\n",
      "This film i watched 2 years ago and it was so emotional\n",
      "I cried watching this.\n",
      "not me sobbing over the family cat dying\n",
      "I SWEAR IM NOT CRYING, IM JUST SWEATING THROUGH MY EYES\n",
      "I�m crying my eyes out\n",
      "God dude, almost had my tear up. Idk what I�ll<br>Do when my dog goes\n",
      "I actually going to the cinema to watch this one\n",
      "the movie makes me sad because i kicked a dog\n",
      "I&#39;m not crying, you are.\n",
      "Awww so cute\n",
      "this made me cry\n",
      "The highest living dog is 29 and this movie is after 37 he met\n",
      "Poor dog\n",
      "Can you do a dogs way home?\n",
      "better then marvels\n",
      "Okay move recap officially made me cry\n",
      "I can just imagine how hard did it take to make this video\n",
      "Dam this is the cutest and saddest movie I have ever seen I played with my dog for an hour after watching this\n",
      "<a href=\"https://www.youtube.com/watch?v=0L2JoeJTfZY&amp;t=3m51s\">3:51</a> Oh no! our table! its broken!\n",
      "i....i cried so much....\n",
      "I watched the actual movie before this, buttt it�s still nice to see it again!\n",
      "Dog live only 16 years to 20 years\n",
      "How a dog can live for 37 years\n",
      "i hate this movie because my name&#39;s ethan and i haven&#39;t lost a dog yet and mine is 11 years old atm. i dont know what ill do when that day comes.\n",
      ":(\n",
      "Everytime I see a dog in a movie I chant &quot;Don&#39;t make me cry&quot; a few times before continuing\n",
      "Your.  Dum.  Wl. Is. The. Dog.  Killd\n",
      "4 Beautiful Lives.\n",
      "I watched this movie and a dogs journey last year and it was so sadd\n",
      "A dogs maximul lifespan is 15 years and the they die at old age\n",
      "Aww\n",
      "r.i.p to ellie\n",
      "I watched this movie and it was one of the best, saddest movies I�ve ever watched\n",
      "A dogs purpose is a great movie\n",
      "&quot;They play games by making noises under the covers, which Bailey enjoys&quot;.... my guy\n",
      "Not gonna even watch the video. Dogs only live for 20 years at most.\n",
      "Im crying\n",
      "The Oldest dog to live was 29 years old\n",
      "Tell me more\n",
      "This made me cry\n",
      "This is a good and sad movie\n",
      "this movie had me crying for life when I saw it :&#39;/, kinda happy I get to experience it again\n",
      "I remember watching this movie I almost cried\n",
      "Holy shit, i watched this movie twice with part 2. Definitely one of the best animal movies out there\n",
      "I�<br>Never thought they would do a recap\n",
      "I clicked on this video expecting a normal movie, now I&#39;m in tears\n",
      "A dog&#39;s purpose is to have fun and make others have fun\n",
      "yeah this movie is sad i saw it before\n",
      "I&#39;m not crying my eyes are just sweaty!\n",
      "i love this movie\n",
      "Is it just me or does every dad in movies  always acts like this when ever there�s a new pet?\n",
      "I remember when i 1st watched this movie<br>Thank you for sharing  it once more..\n",
      "I miss you Hercules.\n",
      "i watched this ago it was really good\n",
      "�Buddy wonders if they will lick each other�s faces like old time. They do not� 10 seconds later they start licking each other�s faces\n",
      "I watched this a few years ago I think there is a movie that can be great to recap  a dog&#39;s way home\n",
      "Repent for your sins thank and pray to God\n",
      "Which ant is the biggest\n",
      "I have watched this movie! It is amazing.\n",
      "I JUST REALIZED THIS WAS A MOVIE AND I THOUGHT IT WAS A REAL ASS STORY IM SO SAD\n",
      "SOBBING RN\n",
      "a dog can live for 37 years ???\n",
      "Where can We see the movie netflix?\n",
      "poor bailey\n",
      "This movie was beautiful but then when the 2nd movie came out it was sader and i loved it both of the movies were sad :&lt;\n",
      "Only dog can live 20 years or 29years\n",
      "I remember watching this movie while I was at a trailer park. Idk Why But It Made Me Cry Buckets.\n",
      "yoo i forgot the title of the movie BUT I LOVE   THIS MOVIEEEEE\n",
      "This dog had the ability to remember his or her past life. Amazing!\n",
      "Nah this is a joke right? I have a golden retriever, got her the exact same way the child did. And we named her Bailey.\n",
      "I saw this a long time ago\n",
      "i found my purpose a long time ago.\n",
      "Why\n",
      "Why there water on my eye ;-;\n",
      "this is actually the prequel of the movie A Dog&#39;s Journey\n",
      "i remember now this movie i watch it beforeeeeeeeeeeee<br>yeahhhhhhhhhh\n",
      "Plus 100,000,000 doggo credit\n",
      "<a href=\"https://www.youtube.com/watch?v=0L2JoeJTfZY&amp;t=3m50s\">3:50</a> OH NO! THEIR TABLE! ITS BROKEN!\n",
      "I cried the whole way through this video T_T\n",
      "I literally cried while watching this<br>Such a beautiful movie!\n",
      "this movie reminds me of my dead  dog :(\n",
      "Bruh I really want this to be in Netflix\n",
      "How to make your video\n",
      "Really good video\n",
      "I remember this movie we watched this in our school and it made us cry so hard ;-;\n",
      "i always cry whenever i watch this movie\n"
     ]
    }
   ],
   "source": [
    "n = comments.shape[0]\n",
    "for i in range(0,n):\n",
    "    print(comments.iloc[i])"
   ]
  },
  {
   "cell_type": "markdown",
   "metadata": {},
   "source": [
    "## Preprocessing"
   ]
  },
  {
   "cell_type": "code",
   "execution_count": 41,
   "metadata": {},
   "outputs": [
    {
     "name": "stdout",
     "output_type": "stream",
     "text": [
      "['commenting', 'quot', 'except', 'dog', 'live', 'long', 'quot', 'watch', 'video']\n",
      "['dog', 'really', 'best', 'friend']\n",
      "['first', 'movie', 'long', 'time', 'tried', 'held', 'tears']\n",
      "['family', 'watched', 'mom', 'younger', 'sis', 'crying', 'exept', 'dad', 'lol']\n",
      "['put', 'sad', 'piano', 'song', 'room', 'literally', 'flooded', 'tears']\n",
      "['god', 'hate', 'dogs', 'bring', 'much', 'joy', 'much', 'saddnes', 'hand', 'dog', 'best', 'could', 'ever', 'happen']\n",
      "['remmember', 'movie', 'good']\n",
      "['film', 'watched', 'years', 'ago', 'emotional']\n",
      "['cried', 'watching']\n",
      "['sobbing', 'family', 'cat', 'dying']\n",
      "['swear', 'im', 'crying', 'im', 'sweating', 'eyes']\n",
      "['crying', 'eyes']\n",
      "['god', 'dude', 'almost', 'tear', 'idk', 'br', 'dog', 'goes']\n",
      "['actually', 'going', 'cinema', 'watch', 'one']\n",
      "['movie', 'makes', 'sad', 'kicked', 'dog']\n",
      "['crying']\n",
      "['awww', 'cute']\n",
      "['made', 'cry']\n",
      "['highest', 'living', 'dog', 'movie', 'met']\n",
      "['poor', 'dog']\n",
      "['dogs', 'way', 'home']\n",
      "['better', 'marvels']\n",
      "['okay', 'move', 'recap', 'officially', 'made', 'cry']\n",
      "['imagine', 'hard', 'take', 'make', 'video']\n",
      "['dam', 'cutest', 'saddest', 'movie', 'ever', 'seen', 'played', 'dog', 'hour', 'watching']\n",
      "['https', 'amp', 'oh', 'table', 'broken']\n",
      "['cried', 'much']\n",
      "['watched', 'actual', 'movie', 'buttt', 'still', 'nice', 'see']\n",
      "['dog', 'live', 'years', 'years']\n",
      "['dog', 'live', 'years']\n",
      "['hate', 'movie', 'name', 'ethan', 'lost', 'dog', 'yet', 'mine', 'years', 'old', 'atm', 'dont', 'know', 'ill', 'day', 'comes']\n",
      "[]\n",
      "['everytime', 'see', 'dog', 'movie', 'chant', 'quot', 'make', 'cry', 'quot', 'times', 'continuing']\n",
      "['dum', 'wl', 'dog', 'killd']\n",
      "['beautiful', 'lives']\n",
      "['watched', 'movie', 'dogs', 'journey', 'last', 'year', 'sadd']\n",
      "['dogs', 'maximul', 'lifespan', 'years', 'die', 'old', 'age']\n",
      "['aww']\n",
      "['ellie']\n",
      "['watched', 'movie', 'one', 'best', 'saddest', 'movies', 'ever', 'watched']\n",
      "['dogs', 'purpose', 'great', 'movie']\n",
      "['quot', 'play', 'games', 'making', 'noises', 'covers', 'bailey', 'enjoys', 'quot', 'guy']\n",
      "['gon', 'na', 'even', 'watch', 'video', 'dogs', 'live', 'years']\n",
      "['im', 'crying']\n",
      "['oldest', 'dog', 'live', 'years', 'old']\n",
      "['tell']"
     ]
    },
    {
     "name": "stderr",
     "output_type": "stream",
     "text": [
      "C:\\Users\\djasb\\AppData\\Local\\Programs\\Python\\Python37-32\\lib\\site-packages\\pandas\\core\\indexing.py:1732: SettingWithCopyWarning: \n",
      "A value is trying to be set on a copy of a slice from a DataFrame\n",
      "\n",
      "See the caveats in the documentation: https://pandas.pydata.org/pandas-docs/stable/user_guide/indexing.html#returning-a-view-versus-a-copy\n",
      "  self._setitem_single_block(indexer, value, name)\n"
     ]
    },
    {
     "name": "stdout",
     "output_type": "stream",
     "text": [
      "\n",
      "['made', 'cry']\n",
      "['good', 'sad', 'movie']\n",
      "['movie', 'crying', 'life', 'saw', 'kinda', 'happy', 'get', 'experience']\n",
      "['remember', 'watching', 'movie', 'almost', 'cried']\n",
      "['holy', 'shit', 'watched', 'movie', 'twice', 'part', 'definitely', 'one', 'best', 'animal', 'movies']\n",
      "['br', 'never', 'thought', 'would', 'recap']\n",
      "['clicked', 'video', 'expecting', 'normal', 'movie', 'tears']\n",
      "['dog', 'purpose', 'fun', 'make', 'others', 'fun']\n",
      "['yeah', 'movie', 'sad', 'saw']\n",
      "['crying', 'eyes', 'sweaty']\n",
      "['love', 'movie']\n",
      "['every', 'dad', 'movies', 'always', 'acts', 'like', 'ever', 'new', 'pet']\n",
      "['remember', 'watched', 'movie', 'br', 'thank', 'sharing']\n",
      "['miss', 'hercules']\n",
      "['watched', 'ago', 'really', 'good']\n",
      "['wonders', 'lick', 'faces', 'like', 'old', 'time', 'seconds', 'later', 'start', 'licking', 'faces']\n",
      "['watched', 'years', 'ago', 'think', 'movie', 'great', 'recap', 'dog', 'way', 'home']\n",
      "['repent', 'sins', 'thank', 'pray', 'god']\n",
      "['ant', 'biggest']\n",
      "['watched', 'movie', 'amazing']\n",
      "['realized', 'movie', 'thought', 'real', 'ass', 'story', 'im', 'sad']\n",
      "['sobbing', 'rn']\n",
      "['dog', 'live', 'years']\n",
      "['see', 'movie', 'netflix']\n",
      "['poor', 'bailey']\n",
      "['movie', 'beautiful', 'movie', 'came', 'sader', 'loved', 'movies', 'sad', 'lt']\n",
      "['dog', 'live', 'years']\n",
      "['remember', 'watching', 'movie', 'trailer', 'park', 'idk', 'made', 'cry', 'buckets']\n",
      "['yoo', 'forgot', 'title', 'movie', 'love', 'movieeeee']\n",
      "['dog', 'ability', 'remember', 'past', 'life', 'amazing']\n",
      "['nah', 'joke', 'right', 'golden', 'retriever', 'got', 'exact', 'way', 'child', 'named', 'bailey']\n",
      "['saw', 'long', 'time', 'ago']\n",
      "['found', 'purpose', 'long', 'time', 'ago']\n",
      "[]\n",
      "['water', 'eye']\n",
      "['actually', 'prequel', 'movie', 'dog', 'journey']\n",
      "['remember', 'movie', 'watch', 'beforeeeeeeeeeeee', 'br', 'yeahhhhhhhhhh']\n",
      "['plus', 'doggo', 'credit']\n",
      "['https', 'amp', 'oh', 'table', 'broken']\n",
      "['cried', 'whole', 'way', 'video']\n",
      "['literally', 'cried', 'watching', 'br', 'beautiful', 'movie']\n",
      "['movie', 'reminds', 'dead', 'dog']\n",
      "['bruh', 'really', 'want', 'netflix']\n",
      "['make', 'video']\n",
      "['really', 'good', 'video']\n",
      "['remember', 'movie', 'watched', 'school', 'made', 'us', 'cry', 'hard']\n",
      "['always', 'cry', 'whenever', 'watch', 'movie']\n"
     ]
    }
   ],
   "source": [
    "n = comments.shape[0]\n",
    "for i in range(0,n):\n",
    "    sent = preprocessing.preprocessing(comments.iloc[i])\n",
    "    sent.preprocess()\n",
    "    s = sent.get_sent()\n",
    "    comments.iloc[i] = s"
   ]
  },
  {
   "cell_type": "code",
   "execution_count": 42,
   "metadata": {},
   "outputs": [
    {
     "name": "stdout",
     "output_type": "stream",
     "text": [
      "Comments after going through preprocessing:\n",
      "0     commenting quot except dog live long quot watc...\n",
      "1                                dog really best friend\n",
      "2                first movie long time tried held tears\n",
      "3     family watched mom younger sis crying exept da...\n",
      "4       put sad piano song room literally flooded tears\n",
      "                            ...                        \n",
      "88                             bruh really want netflix\n",
      "89                                           make video\n",
      "90                                    really good video\n",
      "91       remember movie watched school made us cry hard\n",
      "92                      always cry whenever watch movie\n",
      "Name: comment, Length: 93, dtype: object\n"
     ]
    }
   ],
   "source": [
    "print(\"Comments after going through preprocessing:\")\n",
    "print(comments)"
   ]
  },
  {
   "cell_type": "markdown",
   "metadata": {},
   "source": [
    "## Sentimental Analysis of the Preprocessed Comments"
   ]
  },
  {
   "cell_type": "code",
   "execution_count": 43,
   "metadata": {},
   "outputs": [],
   "source": [
    "SIA = SentimentIntensityAnalyzer()"
   ]
  },
  {
   "cell_type": "code",
   "execution_count": 44,
   "metadata": {},
   "outputs": [],
   "source": [
    "nltk_sentiments_dict =  {t : SIA.polarity_scores(t) for t in comments}"
   ]
  },
  {
   "cell_type": "code",
   "execution_count": 45,
   "metadata": {},
   "outputs": [],
   "source": [
    "df = pd.DataFrame(nltk_sentiments_dict.items())"
   ]
  },
  {
   "cell_type": "code",
   "execution_count": 46,
   "metadata": {},
   "outputs": [
    {
     "name": "stdout",
     "output_type": "stream",
     "text": [
      "                                                    0  \\\n",
      "0   commenting quot except dog live long quot watc...   \n",
      "1                              dog really best friend   \n",
      "2              first movie long time tried held tears   \n",
      "3   family watched mom younger sis crying exept da...   \n",
      "4     put sad piano song room literally flooded tears   \n",
      "..                                                ...   \n",
      "83                           bruh really want netflix   \n",
      "84                                         make video   \n",
      "85                                  really good video   \n",
      "86     remember movie watched school made us cry hard   \n",
      "87                    always cry whenever watch movie   \n",
      "\n",
      "                                                    1  \n",
      "0   {'neg': 0.0, 'neu': 1.0, 'pos': 0.0, 'compound...  \n",
      "1   {'neg': 0.0, 'neu': 0.201, 'pos': 0.799, 'comp...  \n",
      "2   {'neg': 0.241, 'neu': 0.759, 'pos': 0.0, 'comp...  \n",
      "3   {'neg': 0.24, 'neu': 0.543, 'pos': 0.217, 'com...  \n",
      "4   {'neg': 0.455, 'neu': 0.545, 'pos': 0.0, 'comp...  \n",
      "..                                                ...  \n",
      "83  {'neg': 0.0, 'neu': 0.653, 'pos': 0.347, 'comp...  \n",
      "84  {'neg': 0.0, 'neu': 1.0, 'pos': 0.0, 'compound...  \n",
      "85  {'neg': 0.0, 'neu': 0.385, 'pos': 0.615, 'comp...  \n",
      "86  {'neg': 0.429, 'neu': 0.571, 'pos': 0.0, 'comp...  \n",
      "87  {'neg': 0.437, 'neu': 0.563, 'pos': 0.0, 'comp...  \n",
      "\n",
      "[88 rows x 2 columns]\n"
     ]
    }
   ],
   "source": [
    "print(df)"
   ]
  },
  {
   "cell_type": "code",
   "execution_count": 47,
   "metadata": {},
   "outputs": [
    {
     "data": {
      "text/plain": [
       "Text(0.5, 1.0, 'compound polarity scores')"
      ]
     },
     "execution_count": 47,
     "metadata": {},
     "output_type": "execute_result"
    },
    {
     "data": {
      "image/png": "[encoded data removed]",
      "text/plain": [
       "<Figure size 432x288 with 1 Axes>"
      ]
     },
     "metadata": {
      "needs_background": "light"
     },
     "output_type": "display_data"
    }
   ],
   "source": [
    "plt.hist([t['compound'] for t in nltk_sentiments_dict.values()])\n",
    "plt.title(\"compound polarity scores\")"
   ]
  },
  {
   "cell_type": "code",
   "execution_count": 48,
   "metadata": {},
   "outputs": [
    {
     "data": {
      "text/plain": [
       "Text(0.5, 1.0, 'positive polarity scores')"
      ]
     },
     "execution_count": 48,
     "metadata": {},
     "output_type": "execute_result"
    },
    {
     "data": {
      "image/png": "[encoded data removed]",
      "text/plain": [
       "<Figure size 432x288 with 1 Axes>"
      ]
     },
     "metadata": {
      "needs_background": "light"
     },
     "output_type": "display_data"
    }
   ],
   "source": [
    "plt.hist([t['pos'] for t in nltk_sentiments_dict.values()])\n",
    "plt.title(\"positive polarity scores\")"
   ]
  },
  {
   "cell_type": "code",
   "execution_count": 49,
   "metadata": {},
   "outputs": [
    {
     "data": {
      "text/plain": [
       "Text(0.5, 1.0, 'negative polarity scores')"
      ]
     },
     "execution_count": 49,
     "metadata": {},
     "output_type": "execute_result"
    },
    {
     "data": {
      "image/png": "[encoded data removed]",
      "text/plain": [
       "<Figure size 432x288 with 1 Axes>"
      ]
     },
     "metadata": {
      "needs_background": "light"
     },
     "output_type": "display_data"
    }
   ],
   "source": [
    "plt.hist([t['neg'] for t in nltk_sentiments_dict.values()])\n",
    "plt.title(\"negative polarity scores\")"
   ]
  }
 ],
 "metadata": {
  "interpreter": {
   "hash": "8b2ae9a48a44c58ae51f4272b5d18df58f35a935548734ba56ecd5a4ecb023b9"
  },
  "kernelspec": {
   "display_name": "Python 3.7.2 32-bit",
   "name": "python3"
  },
  "language_info": {
   "codemirror_mode": {
    "name": "ipython",
    "version": 3
   },
   "file_extension": ".py",
   "mimetype": "text/x-python",
   "name": "python",
   "nbconvert_exporter": "python",
   "pygments_lexer": "ipython3",
   "version": "3.7.2"
  },
  "orig_nbformat": 4
 },
 "nbformat": 4,
 "nbformat_minor": 2
}
