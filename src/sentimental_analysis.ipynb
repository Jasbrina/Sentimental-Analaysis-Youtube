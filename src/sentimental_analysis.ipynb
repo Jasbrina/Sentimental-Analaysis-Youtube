{
 "cells": [
  {
   "cell_type": "markdown",
   "metadata": {},
   "source": [
    "# Sentimental Analysis of Youtube Comments"
   ]
  },
  {
   "cell_type": "markdown",
   "metadata": {},
   "source": [
    "## Reading in the data"
   ]
  },
  {
   "cell_type": "code",
   "execution_count": 17,
   "metadata": {},
   "outputs": [],
   "source": [
    "import pandas as pd\n",
    "import numpy as np \n",
    "import nltk\n",
    "from nltk.sentiment.vader import SentimentIntensityAnalyzer\n",
    "import matplotlib.pyplot as plt\n",
    "import preprocessing"
   ]
  },
  {
   "cell_type": "code",
   "execution_count": 2,
   "metadata": {},
   "outputs": [
    {
     "name": "stderr",
     "output_type": "stream",
     "text": [
      "[nltk_data] Downloading package vader_lexicon to\n",
      "[nltk_data]     C:\\Users\\djasb\\AppData\\Roaming\\nltk_data...\n",
      "[nltk_data]   Package vader_lexicon is already up-to-date!\n"
     ]
    },
    {
     "data": {
      "text/plain": [
       "True"
      ]
     },
     "execution_count": 2,
     "metadata": {},
     "output_type": "execute_result"
    }
   ],
   "source": [
    "nltk.download('vader_lexicon')"
   ]
  },
  {
   "cell_type": "code",
   "execution_count": 3,
   "metadata": {},
   "outputs": [
    {
     "name": "stderr",
     "output_type": "stream",
     "text": [
      "C:\\Users\\djasb\\AppData\\Local\\Programs\\Python\\Python37-32\\lib\\site-packages\\IPython\\core\\interactiveshell.py:3444: FutureWarning: The error_bad_lines argument has been deprecated and will be removed in a future version.\n",
      "\n",
      "\n",
      "  exec(code_obj, self.user_global_ns, self.user_ns)\n"
     ]
    }
   ],
   "source": [
    "data = pd.read_csv('C:\\\\Users\\\\djasb\\\\Documents\\\\school\\\\2021W1\\\\LING242\\\\youtube_sentimental_analysis\\\\data\\\\dog.csv', error_bad_lines=False)"
   ]
  },
  {
   "cell_type": "code",
   "execution_count": 4,
   "metadata": {},
   "outputs": [],
   "source": [
    "comments = data['comment']"
   ]
  },
  {
   "cell_type": "code",
   "execution_count": 11,
   "metadata": {},
   "outputs": [
    {
     "name": "stdout",
     "output_type": "stream",
     "text": [
      "0     Before commenting \"Except a dog can't live tha...\n",
      "1     God dude, almost had my tear up. Idk what I'll...\n",
      "2      I actually going to the cinema to watch this one\n",
      "3         the movie makes me sad because i kicked a dog\n",
      "4                              I'm not crying, you are.\n",
      "5                                          Awww so cute\n",
      "6                                      this made me cry\n",
      "7     The highest living dog is 29 and this movie is...\n",
      "8                                              Poor dog\n",
      "9                           Can you do a dogs way home?\n",
      "10                                  better then marvels\n",
      "11               Okay move recap officially made me cry\n",
      "12    I can just imagine how hard did it take to mak...\n",
      "13    Dam this is the cutest and saddest movie I hav...\n",
      "14                   3:51 Oh no! our table! its broken!\n",
      "15    Before commenting \"Except a dog can't live tha...\n",
      "16    God dude, almost had my tear up. Idk what I'll...\n",
      "17     I actually going to the cinema to watch this one\n",
      "18        the movie makes me sad because i kicked a dog\n",
      "19                             I'm not crying, you are.\n",
      "20                                         Awww so cute\n",
      "21                                     this made me cry\n",
      "22    The highest living dog is 29 and this movie is...\n",
      "23                                             Poor dog\n",
      "24                          Can you do a dogs way home?\n",
      "25                                  better then marvels\n",
      "26               Okay move recap officially made me cry\n",
      "27    I can just imagine how hard did it take to mak...\n",
      "28    Dam this is the cutest and saddest movie I hav...\n",
      "29                   3:51 Oh no! our table! its broken!\n",
      "Name: comment, dtype: object\n"
     ]
    }
   ],
   "source": [
    "print(comments)"
   ]
  },
  {
   "cell_type": "code",
   "execution_count": 14,
   "metadata": {},
   "outputs": [
    {
     "name": "stdout",
     "output_type": "stream",
     "text": [
      "Before commenting \"Except a dog can't live that long,\" watch the video...\n",
      "God dude, almost had my tear up. Idk what I'll\n",
      "Do when my dog goes\n",
      "I actually going to the cinema to watch this one\n",
      "the movie makes me sad because i kicked a dog\n",
      "I'm not crying, you are.\n",
      "Awww so cute\n",
      "this made me cry\n",
      "The highest living dog is 29 and this movie is after 37 he met\n",
      "Poor dog\n",
      "Can you do a dogs way home?\n",
      "better then marvels\n",
      "Okay move recap officially made me cry\n",
      "I can just imagine how hard did it take to make this video\n",
      "Dam this is the cutest and saddest movie I have ever seen I played with my dog for an hour after watching this\n",
      "3:51 Oh no! our table! its broken!\n",
      "Before commenting \"Except a dog can't live that long,\" watch the video...\n",
      "God dude, almost had my tear up. Idk what I'll\n",
      "Do when my dog goes\n",
      "I actually going to the cinema to watch this one\n",
      "the movie makes me sad because i kicked a dog\n",
      "I'm not crying, you are.\n",
      "Awww so cute\n",
      "this made me cry\n",
      "The highest living dog is 29 and this movie is after 37 he met\n",
      "Poor dog\n",
      "Can you do a dogs way home?\n",
      "better then marvels\n",
      "Okay move recap officially made me cry\n",
      "I can just imagine how hard did it take to make this video\n",
      "Dam this is the cutest and saddest movie I have ever seen I played with my dog for an hour after watching this\n",
      "3:51 Oh no! our table! its broken!\n"
     ]
    }
   ],
   "source": [
    "n = comments.shape[0]\n",
    "for i in range(0,n):\n",
    "    print(comments.iloc[i])"
   ]
  },
  {
   "cell_type": "markdown",
   "metadata": {},
   "source": [
    "## Preprocessing"
   ]
  },
  {
   "cell_type": "code",
   "execution_count": 21,
   "metadata": {},
   "outputs": [
    {
     "name": "stdout",
     "output_type": "stream",
     "text": [
      "['commenting', 'except', 'dog', 'ca', 'live', 'long', 'watch', 'video']\n",
      "['god', 'dude', 'almost', 'tear', 'idk', 'dog', 'goes']\n",
      "['actually', 'going', 'cinema', 'watch', 'one']\n",
      "['movie', 'makes', 'sad', 'kicked', 'dog']\n",
      "['crying']\n",
      "['awww', 'cute']\n",
      "['made', 'cry']\n",
      "['highest', 'living', 'dog', 'movie', 'met']\n",
      "['poor', 'dog']\n",
      "['dogs', 'way', 'home']\n",
      "['better', 'marvels']\n",
      "['okay', 'move', 'recap', 'officially', 'made', 'cry']\n",
      "['imagine', 'hard', 'take', 'make', 'video']\n",
      "['dam', 'cutest', 'saddest', 'movie', 'ever', 'seen', 'played', 'dog', 'hour', 'watching']\n",
      "['oh', 'table', 'broken']\n",
      "['commenting', 'except', 'dog', 'ca', 'live', 'long', 'watch', 'video']\n",
      "['god', 'dude', 'almost', 'tear', 'idk', 'dog', 'goes']\n",
      "['actually', 'going', 'cinema', 'watch', 'one']\n",
      "['movie', 'makes', 'sad', 'kicked', 'dog']\n",
      "['crying']\n",
      "['awww', 'cute']\n",
      "['made', 'cry']\n",
      "['highest', 'living', 'dog', 'movie', 'met']\n",
      "['poor', 'dog']\n",
      "['dogs', 'way', 'home']\n",
      "['better', 'marvels']\n",
      "['okay', 'move', 'recap', 'officially', 'made', 'cry']\n",
      "['imagine', 'hard', 'take', 'make', 'video']\n",
      "['dam', 'cutest', 'saddest', 'movie', 'ever', 'seen', 'played', 'dog', 'hour', 'watching']\n",
      "['oh', 'table', 'broken']\n"
     ]
    }
   ],
   "source": [
    "n = comments.shape[0]\n",
    "for i in range(0,n):\n",
    "    sent = preprocessing.preprocessing(comments.iloc[i])\n",
    "    sent.preprocess()\n",
    "    s = sent.get_sent()\n",
    "    comments.iloc[i] = s"
   ]
  },
  {
   "cell_type": "code",
   "execution_count": 23,
   "metadata": {},
   "outputs": [
    {
     "name": "stdout",
     "output_type": "stream",
     "text": [
      "Comments after going through preprocessing:\n",
      "0        commenting except dog ca live long watch video\n",
      "1                     god dude almost tear idk dog goes\n",
      "2                       actually going cinema watch one\n",
      "3                            movie makes sad kicked dog\n",
      "4                                                crying\n",
      "5                                             awww cute\n",
      "6                                              made cry\n",
      "7                          highest living dog movie met\n",
      "8                                              poor dog\n",
      "9                                         dogs way home\n",
      "10                                       better marvels\n",
      "11                  okay move recap officially made cry\n",
      "12                         imagine hard take make video\n",
      "13    dam cutest saddest movie ever seen played dog ...\n",
      "14                                      oh table broken\n",
      "15       commenting except dog ca live long watch video\n",
      "16                    god dude almost tear idk dog goes\n",
      "17                      actually going cinema watch one\n",
      "18                           movie makes sad kicked dog\n",
      "19                                               crying\n",
      "20                                            awww cute\n",
      "21                                             made cry\n",
      "22                         highest living dog movie met\n",
      "23                                             poor dog\n",
      "24                                        dogs way home\n",
      "25                                       better marvels\n",
      "26                  okay move recap officially made cry\n",
      "27                         imagine hard take make video\n",
      "28    dam cutest saddest movie ever seen played dog ...\n",
      "29                                      oh table broken\n",
      "Name: comment, dtype: object\n"
     ]
    }
   ],
   "source": [
    "print(\"Comments after going through preprocessing:\")\n",
    "print(comments)"
   ]
  },
  {
   "cell_type": "markdown",
   "metadata": {},
   "source": [
    "## Sentimental Analysis of the Preprocessed Comments"
   ]
  },
  {
   "cell_type": "code",
   "execution_count": 24,
   "metadata": {},
   "outputs": [],
   "source": [
    "SIA = SentimentIntensityAnalyzer()"
   ]
  },
  {
   "cell_type": "code",
   "execution_count": 25,
   "metadata": {},
   "outputs": [],
   "source": [
    "nltk_sentiments_dict =  {t : SIA.polarity_scores(t) for t in comments}"
   ]
  },
  {
   "cell_type": "code",
   "execution_count": 26,
   "metadata": {},
   "outputs": [],
   "source": [
    "df = pd.DataFrame(nltk_sentiments_dict.items())"
   ]
  },
  {
   "cell_type": "code",
   "execution_count": 27,
   "metadata": {},
   "outputs": [
    {
     "name": "stdout",
     "output_type": "stream",
     "text": [
      "                                                    0  \\\n",
      "0      commenting except dog ca live long watch video   \n",
      "1                   god dude almost tear idk dog goes   \n",
      "2                     actually going cinema watch one   \n",
      "3                          movie makes sad kicked dog   \n",
      "4                                              crying   \n",
      "5                                           awww cute   \n",
      "6                                            made cry   \n",
      "7                        highest living dog movie met   \n",
      "8                                            poor dog   \n",
      "9                                       dogs way home   \n",
      "10                                     better marvels   \n",
      "11                okay move recap officially made cry   \n",
      "12                       imagine hard take make video   \n",
      "13  dam cutest saddest movie ever seen played dog ...   \n",
      "14                                    oh table broken   \n",
      "\n",
      "                                                    1  \n",
      "0   {'neg': 0.0, 'neu': 1.0, 'pos': 0.0, 'compound...  \n",
      "1   {'neg': 0.136, 'neu': 0.608, 'pos': 0.255, 'co...  \n",
      "2   {'neg': 0.0, 'neu': 1.0, 'pos': 0.0, 'compound...  \n",
      "3   {'neg': 0.437, 'neu': 0.563, 'pos': 0.0, 'comp...  \n",
      "4   {'neg': 1.0, 'neu': 0.0, 'pos': 0.0, 'compound...  \n",
      "5   {'neg': 0.0, 'neu': 0.25, 'pos': 0.75, 'compou...  \n",
      "6   {'neg': 0.756, 'neu': 0.244, 'pos': 0.0, 'comp...  \n",
      "7   {'neg': 0.0, 'neu': 1.0, 'pos': 0.0, 'compound...  \n",
      "8   {'neg': 0.756, 'neu': 0.244, 'pos': 0.0, 'comp...  \n",
      "9   {'neg': 0.0, 'neu': 1.0, 'pos': 0.0, 'compound...  \n",
      "10  {'neg': 0.0, 'neu': 0.0, 'pos': 1.0, 'compound...  \n",
      "11  {'neg': 0.344, 'neu': 0.444, 'pos': 0.211, 'co...  \n",
      "12  {'neg': 0.259, 'neu': 0.741, 'pos': 0.0, 'comp...  \n",
      "13  {'neg': 0.233, 'neu': 0.407, 'pos': 0.36, 'com...  \n",
      "14  {'neg': 0.608, 'neu': 0.392, 'pos': 0.0, 'comp...  \n"
     ]
    }
   ],
   "source": [
    "print(df)"
   ]
  },
  {
   "cell_type": "code",
   "execution_count": 28,
   "metadata": {},
   "outputs": [
    {
     "data": {
      "text/plain": [
       "Text(0.5, 1.0, 'compound polarity scores')"
      ]
     },
     "execution_count": 28,
     "metadata": {},
     "output_type": "execute_result"
    },
    {
     "data": {
      "image/png": "[encoded data removed]",
      "text/plain": [
       "<Figure size 432x288 with 1 Axes>"
      ]
     },
     "metadata": {
      "needs_background": "light"
     },
     "output_type": "display_data"
    }
   ],
   "source": [
    "plt.hist([t['compound'] for t in nltk_sentiments_dict.values()])\n",
    "plt.title(\"compound polarity scores\")"
   ]
  },
  {
   "cell_type": "code",
   "execution_count": 29,
   "metadata": {},
   "outputs": [
    {
     "data": {
      "text/plain": [
       "Text(0.5, 1.0, 'positive polarity scores')"
      ]
     },
     "execution_count": 29,
     "metadata": {},
     "output_type": "execute_result"
    },
    {
     "data": {
      "image/png": "[encoded data removed]",
      "text/plain": [
       "<Figure size 432x288 with 1 Axes>"
      ]
     },
     "metadata": {
      "needs_background": "light"
     },
     "output_type": "display_data"
    }
   ],
   "source": [
    "plt.hist([t['pos'] for t in nltk_sentiments_dict.values()])\n",
    "plt.title(\"positive polarity scores\")"
   ]
  },
  {
   "cell_type": "code",
   "execution_count": 30,
   "metadata": {},
   "outputs": [
    {
     "data": {
      "text/plain": [
       "Text(0.5, 1.0, 'negative polarity scores')"
      ]
     },
     "execution_count": 30,
     "metadata": {},
     "output_type": "execute_result"
    },
    {
     "data": {
      "image/png": "[encoded data removed]",
      "text/plain": [
       "<Figure size 432x288 with 1 Axes>"
      ]
     },
     "metadata": {
      "needs_background": "light"
     },
     "output_type": "display_data"
    }
   ],
   "source": [
    "plt.hist([t['neg'] for t in nltk_sentiments_dict.values()])\n",
    "plt.title(\"negative polarity scores\")"
   ]
  }
 ],
 "metadata": {
  "interpreter": {
   "hash": "8b2ae9a48a44c58ae51f4272b5d18df58f35a935548734ba56ecd5a4ecb023b9"
  },
  "kernelspec": {
   "display_name": "Python 3.7.2 32-bit",
   "name": "python3"
  },
  "language_info": {
   "codemirror_mode": {
    "name": "ipython",
    "version": 3
   },
   "file_extension": ".py",
   "mimetype": "text/x-python",
   "name": "python",
   "nbconvert_exporter": "python",
   "pygments_lexer": "ipython3",
   "version": "3.7.2"
  },
  "orig_nbformat": 4
 },
 "nbformat": 4,
 "nbformat_minor": 2
}
